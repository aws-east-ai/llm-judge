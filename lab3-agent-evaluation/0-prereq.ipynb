{
 "cells": [
  {
   "cell_type": "markdown",
   "id": "36d7e5b3",
   "metadata": {},
   "source": [
    "# Preparing the data lake for text2sql agent"
   ]
  },
  {
   "cell_type": "markdown",
   "id": "0c2f8a4d",
   "metadata": {},
   "source": [
    "## Download BirdSQL - Mini Dev Dataset"
   ]
  },
  {
   "cell_type": "code",
   "execution_count": null,
   "id": "3ec410a4",
   "metadata": {
    "vscode": {
     "languageId": "shellscript"
    }
   },
   "outputs": [],
   "source": [
    "!wget https://bird-bench.oss-cn-beijing.aliyuncs.com/dev.zip"
   ]
  },
  {
   "cell_type": "markdown",
   "id": "5c240e77",
   "metadata": {},
   "source": [
    "## Transform and store data for Text2SQL agent"
   ]
  },
  {
   "cell_type": "code",
   "execution_count": null,
   "metadata": {},
   "outputs": [],
   "source": [
    "import boto3\n",
    "import os\n",
    "import uuid\n",
    "\n",
    "# boto3 session\n",
    "sts_client = boto3.client('sts')\n",
    "session = boto3.session.Session()\n",
    "\n",
    "# Account info\n",
    "account_id = sts_client.get_caller_identity()[\"Account\"]\n",
    "region = 'us-west-2'\n",
    "\n",
    "random_suffix_1 = uuid.uuid4().hex[:6]\n",
    "base_bucket_name = f\"{'text2sql-agent'}-{account_id}-{random_suffix_1}\"\n",
    "random_suffix_2 = uuid.uuid4().hex[:6]\n",
    "athena_results_bucket_name = f\"{'text2sql-athena-results'}-{account_id}-{random_suffix_2}\"\n",
    "athena_database_name = 'california_schools'\n",
    "\n",
    "os.environ['REGION'] = region\n",
    "os.environ['BASE_BUCKET_NAME'] = base_bucket_name\n",
    "os.environ['ATHENA_RESULTS_BUCKET_NAME'] = athena_results_bucket_name\n",
    "os.environ['BASE_DIR'] = 'dev_databases'\n",
    "os.environ['DATABASE_NAME'] = athena_database_name"
   ]
  },
  {
   "cell_type": "code",
   "execution_count": null,
   "id": "cf9f6380",
   "metadata": {},
   "outputs": [],
   "source": [
    "!uv pip install joblib"
   ]
  },
  {
   "cell_type": "code",
   "execution_count": null,
   "id": "f18c1c0a",
   "metadata": {},
   "outputs": [],
   "source": [
    "%run data_prep.py"
   ]
  }
 ],
 "metadata": {
  "kernelspec": {
   "display_name": "py312",
   "language": "python",
   "name": "python3"
  },
  "language_info": {
   "codemirror_mode": {
    "name": "ipython",
    "version": 3
   },
   "file_extension": ".py",
   "mimetype": "text/x-python",
   "name": "python",
   "nbconvert_exporter": "python",
   "pygments_lexer": "ipython3",
   "version": "3.12.10"
  }
 },
 "nbformat": 4,
 "nbformat_minor": 5
}
