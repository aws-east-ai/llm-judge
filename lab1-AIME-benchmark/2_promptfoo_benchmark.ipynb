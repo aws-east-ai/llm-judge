{
 "cells": [
  {
   "cell_type": "markdown",
   "id": "fc7c03b5",
   "metadata": {},
   "source": [
    "## Setup aws config\n",
    "\n",
    "```bash\n",
    "# bash\n",
    "aws configure\n",
    "```\n",
    "\n",
    "<div class=\"alert alert-block alert-info\"> Please run bash command and only set default region 'us-west-2'! no need to set ak/sk. we use role to provide credential. </div>"
   ]
  },
  {
   "cell_type": "markdown",
   "id": "0e153704",
   "metadata": {},
   "source": [
    "# Install nodejs and promptfoo\n",
    "\n",
    "# sudo if needed\n",
    "```sh\n",
    "# bash\n",
    "npm install -g promptfoo\n",
    "```"
   ]
  },
  {
   "cell_type": "markdown",
   "id": "ba831151",
   "metadata": {},
   "source": [
    "# Config the benchmark yaml"
   ]
  },
  {
   "cell_type": "markdown",
   "id": "b31a1e08",
   "metadata": {},
   "source": [
    "### lab1-AIME-benchmark/2_promptfoo_benchmark/promptfooconfig.yaml\n",
    "\n",
    "config file is ready in folder lab1-AIME-benchmark/2_promptfoo_benchmark\n",
    "\n",
    "```yaml\n",
    "# yaml-language-server: $schema=https://promptfoo.dev/config-schema.json\n",
    "\n",
    "# Learn more about building a configuration: https://promptfoo.dev/docs/configuration/guide\n",
    "\n",
    "description: \"AIME 2025 benchmark\"\n",
    "\n",
    "prompts:\n",
    "  - \"{{problem}}\"\n",
    "  \n",
    "\n",
    "providers:\n",
    "  # - id: litellm:claude-3.7-sonnet\n",
    "  #   config:\n",
    "  #     max_tokens: 8000\n",
    "  #     reasoning_effort: 'medium'\n",
    "  #     showThinking: true\n",
    "  - litellm:claude-3.5-sonnet\n",
    "  - id: litellm:deepseek-r1\n",
    "    config:\n",
    "      max_tokens: 16000\n",
    "      showThinking: false\n",
    "  - litellm:nova-lite\n",
    "  - id: litellm:nova-pro\n",
    "    config:\n",
    "      max_tokens: 8000\n",
    "# - bedrock:anthropic.claude-3-5-sonnet-20241022-v2:0\n",
    "# - bedrock:amazon.nova-lite-v1:0\n",
    "\n",
    "defaultTest:\n",
    "  options:\n",
    "    provider: \n",
    "      id: litellm:claude-3.7-sonnet\n",
    "\n",
    "  assert:\n",
    "    - type: factuality\n",
    "      value: \"{{answer}}\"\n",
    "      metric: correctness\n",
    "\n",
    "tests:\n",
    "  - huggingface://datasets/shanchen/aime_2025_multilingual?split=en&config=default&limit=30\n",
    "\n",
    "```"
   ]
  },
  {
   "cell_type": "markdown",
   "id": "f0618374",
   "metadata": {},
   "source": [
    "# Run promptfoo evaluation\n",
    "\n",
    "```sh\n",
    "# bash\n",
    "\n",
    "export AWS_BEDROCK_REGION='us-west-2' \n",
    "\n",
    "cd 2_promptfoo_benchmark\n",
    "\n",
    "promptfoo eval\n",
    "```\n",
    "\n",
    "<div class=\"alert alert-block alert-warning\"> Don't forget to setup env var AWS_BEDROCK_REGION. </div>"
   ]
  },
  {
   "cell_type": "markdown",
   "id": "469abf80",
   "metadata": {},
   "source": [
    "# View the result\n",
    "\n",
    "```\n",
    "promptfoo view\n",
    "```\n",
    "\n",
    "<div class=\"alert alert-block alert-warning\"> You need to config SG or port forwarding to view the web from your local laptop. <br>\n",
    "Reference ec2-add-key.txt for instructions to setup port forwarding. visit http://localhost:15500 after setup. </div>\n",
    "\n",
    "![prmmptfoo_AIME2025](images/aime-2025-promptfoo.png)"
   ]
  }
 ],
 "metadata": {
  "kernelspec": {
   "display_name": "py312",
   "language": "python",
   "name": "python3"
  },
  "language_info": {
   "codemirror_mode": {
    "name": "ipython",
    "version": 3
   },
   "file_extension": ".py",
   "mimetype": "text/x-python",
   "name": "python",
   "nbconvert_exporter": "python",
   "pygments_lexer": "ipython3",
   "version": "3.12.10"
  }
 },
 "nbformat": 4,
 "nbformat_minor": 5
}
